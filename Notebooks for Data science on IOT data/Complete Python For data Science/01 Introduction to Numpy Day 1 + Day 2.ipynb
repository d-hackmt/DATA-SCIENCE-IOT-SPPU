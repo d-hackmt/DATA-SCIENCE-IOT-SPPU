{
  "nbformat": 4,
  "nbformat_minor": 0,
  "metadata": {
    "colab": {
      "provenance": []
    },
    "kernelspec": {
      "name": "python3",
      "display_name": "Python 3"
    },
    "language_info": {
      "name": "python"
    }
  },
  "cells": [
    {
      "cell_type": "markdown",
      "source": [
        "# Module No 01 :  Numpy: Arrays, Scalars, Array Processing ,Array input, output\n",
        "\n",
        "# Session 01 : Introduction to Numpy\n",
        "               \n",
        "\n"
      ],
      "metadata": {
        "id": "BAJ1401IskWs"
      }
    },
    {
      "cell_type": "markdown",
      "source": [
        "**Topics Covered:**\n",
        "\n",
        "- Overview of NumPy Library\n",
        "\n",
        "- Arrays: Creation, Types, and Operations\n",
        "\n",
        "- Scalars and Vectorized Operations"
      ],
      "metadata": {
        "id": "QmA5b7hSVAbD"
      }
    },
    {
      "cell_type": "markdown",
      "source": [
        "#**Introduction to NumPy**\n",
        "\n",
        "**Theory:**\n",
        "\n",
        "NumPy (Numerical Python) is a powerful library for numerical computing in Python. It is fundamental in scientific computing, data science, and machine learning due to its capabilities in handling large datasets and mathematical operations.\n",
        "\n",
        "**Key Features:**\n",
        "\n",
        "- Efficient Array Operations: NumPy arrays (ndarrays) are optimized for performance and support element-wise operations.\n",
        "\n",
        "- Multi-dimensional Arrays: NumPy handles multi-dimensional arrays (ndarrays), which are critical for matrix-based computations and higher-dimensional data.\n",
        "\n",
        "- Vectorized Operations: NumPy performs operations without the need for for-loops, leading to faster execution and more compact code.\n",
        "\n",
        "- Broadcasting: Broadcasting allows NumPy to perform operations on arrays with different shapes in a consistent manner."
      ],
      "metadata": {
        "id": "1AfcDbb1Vbvw"
      }
    },
    {
      "cell_type": "markdown",
      "source": [
        "**Code Example **"
      ],
      "metadata": {
        "id": "1sNcPuLzWfIh"
      }
    },
    {
      "cell_type": "code",
      "execution_count": null,
      "metadata": {
        "id": "aCXXQb-PsVy-",
        "colab": {
          "base_uri": "https://localhost:8080/"
        },
        "outputId": "40cb838b-4a0e-4181-d190-116338ad3ed8"
      },
      "outputs": [
        {
          "output_type": "stream",
          "name": "stdout",
          "text": [
            "NumPy Array: [1 2 3 4]\n"
          ]
        }
      ],
      "source": [
        "import numpy as np\n",
        "\n",
        "# Create a simple 1D NumPy array\n",
        "arr = np.array([1, 2, 3, 4]) # array()\n",
        "print(\"NumPy Array:\" ,arr)"
      ]
    },
    {
      "cell_type": "markdown",
      "source": [
        "**Explanation:**\n",
        "\n",
        "**NumPy Arrays vs Python Lists:**\n",
        "\n",
        "- Python Lists: General-purpose containers for heterogeneous data, but not optimized for numerical computations.\n",
        "\n",
        "- NumPy Arrays: Homogeneous (same type) and optimized for fast numerical operations.\n",
        "\n",
        "- np.array(): Creates a NumPy ndarray that supports element-wise arithmetic and faster computation."
      ],
      "metadata": {
        "id": "9chy6dSVWjdj"
      }
    },
    {
      "cell_type": "markdown",
      "source": [
        "**Example - Array Operations:**"
      ],
      "metadata": {
        "id": "hPZbSoiXXDOS"
      }
    },
    {
      "cell_type": "code",
      "source": [
        "# With Python List:\n",
        "list1 = [1, 2, 3, 4]\n",
        "list2 = [5, 6, 7, 8]\n",
        "sum_list = [list1[i] + list2[i] for i in range(len(list1))]\n",
        "print(\"Sum of Lists (Python):\", sum_list)\n",
        "\n",
        "# With NumPy Array:\n",
        "arr1 = np.array([1, 2, 3, 4])\n",
        "arr2 = np.array([5, 6, 7, 8])\n",
        "sum_arr = arr1 + arr2\n",
        "print(\"Sum of Arrays (NumPy):\", sum_arr)"
      ],
      "metadata": {
        "id": "T53iG21AXKE_",
        "colab": {
          "base_uri": "https://localhost:8080/"
        },
        "outputId": "0e785b58-9f6c-419d-bb5e-9609a72b1fa5"
      },
      "execution_count": null,
      "outputs": [
        {
          "output_type": "stream",
          "name": "stdout",
          "text": [
            "Sum of Lists (Python): [6, 8, 10, 12]\n",
            "Sum of Arrays (NumPy): [ 6  8 10 12]\n"
          ]
        }
      ]
    },
    {
      "cell_type": "markdown",
      "source": [
        "**Key Takeaways:**\n",
        "\n",
        "- NumPy arrays are faster, more memory-efficient, and allow for vectorized operations compared to Python lists.\n",
        "\n",
        "- Broadcasting and element-wise operations make it easy to perform computations across arrays of different shapes.\n",
        "\n",
        "- NumPy provides a rich set of mathematical functions and powerful tools for manipulating large data arrays."
      ],
      "metadata": {
        "id": "1Tqarq3cXJN0"
      }
    },
    {
      "cell_type": "markdown",
      "source": [
        "#1. NumPy Array Creation"
      ],
      "metadata": {
        "id": "WkqeyA88X2ZQ"
      }
    },
    {
      "cell_type": "markdown",
      "source": [
        "**Theory:**\n",
        "\n",
        "Creating Arrays from Lists or Tuples: In NumPy, arrays are typically created using the np.array() function. You can pass a Python list or tuple as an argument, and NumPy will convert it into an ndarray (NumPy's array object).\n",
        "\n",
        "**For example:**\n",
        "\n",
        "- np.array([1, 2, 3]) will create a one-dimensional NumPy array.\n",
        "- np.array((1, 2, 3)) will create the same array, but from a tuple.\n",
        "\n",
        "**Difference between NumPy Arrays and Python Lists:**\n",
        "\n",
        "- Memory Efficiency: NumPy arrays are more memory efficient than Python lists. This is because NumPy arrays store data in a contiguous block of memory, while Python lists store references to objects. This efficiency is crucial when working with large datasets.\n",
        "\n",
        "- Faster Operations: NumPy arrays support vectorized operations, meaning that arithmetic operations can be applied directly to arrays without the need for explicit loops. This makes operations much faster compared to Python lists.\n",
        "\n",
        "**Functions for Array Creation:**\n",
        "\n",
        "- np.zeros(): Creates an array of zeros with the specified shape.\n",
        "- np.ones(): Creates an array of ones with the specified shape.\n",
        "- np.arange(): Creates an array with regularly spaced values, similar to Python's range(), but returns a NumPy array instead of a list.\n",
        "\n",
        "These functions are often used when you need to initialize arrays before populating them with data."
      ],
      "metadata": {
        "id": "dLkqhR82X7mj"
      }
    },
    {
      "cell_type": "markdown",
      "source": [
        "**Code Examples:**"
      ],
      "metadata": {
        "id": "oW_LqDsLYcru"
      }
    },
    {
      "cell_type": "code",
      "source": [
        "import numpy as np\n",
        "\n",
        "# Creating arrays\n",
        "arr = np.array([1, 2, 3])  # Create a 1D array from a list\n",
        "zeros_arr = np.zeros(5)     # Create a 1D array of zeros (size 3)\n",
        "ones_arr = np.ones(4)       # Create a 1D array of ones (size 3)\n",
        "range_arr = np.arange(1, 10, 2)  # Create a 1D array of numbers from 1 to 9 with a step of 2\n",
        "\n",
        "print(\"NumPy Array:\", arr)\n",
        "print(\"Zeros Array:\", zeros_arr)\n",
        "print(\"Ones Array:\", ones_arr)\n",
        "print(\"Range Array:\", range_arr)"
      ],
      "metadata": {
        "id": "vwCWIkakYeLI",
        "colab": {
          "base_uri": "https://localhost:8080/"
        },
        "outputId": "f7aff93b-08a7-4fab-bdf6-71ba87ee5ee1"
      },
      "execution_count": null,
      "outputs": [
        {
          "output_type": "stream",
          "name": "stdout",
          "text": [
            "NumPy Array: [1 2 3]\n",
            "Zeros Array: [0. 0. 0. 0. 0.]\n",
            "Ones Array: [1. 1. 1. 1.]\n",
            "Range Array: [1 3 5 7 9]\n"
          ]
        }
      ]
    },
    {
      "cell_type": "markdown",
      "source": [
        "**Explanation:**\n",
        "\n",
        "\n",
        "**Creating Arrays using np.array():**\n",
        "\n",
        "- arr = np.array([1, 2, 3]): This creates a 1D NumPy array with the values [1, 2, 3].\n",
        "- You can also create arrays from tuples by passing them as arguments, e.g., np.array((4, 5, 6)).\n",
        "\n",
        "**Creating Arrays of Zeros with np.zeros():**\n",
        "\n",
        "- np.zeros(3) creates a 1D array of zeros with a length of 3. The shape (3,) implies a one-dimensional array with 3 elements, all initialized to 0.\n",
        "\n",
        "**Creating Arrays of Ones with np.ones():**\n",
        "\n",
        "- np.ones(3) creates a 1D array of ones with a length of 3. Similar to np.zeros(), but every element is set to 1 instead of 0.\n",
        "\n",
        "**Creating Arrays with a Range of Values using np.arange():**\n",
        "\n",
        "- np.arange(1, 10, 2) creates a 1D array of values starting from 1, ending before 10, with a step size of 2. This generates the array [1, 3, 5, 7, 9].\n",
        "- The parameters in np.arange(start, stop, step) are similar to Python’s built-in range() function.\n",
        "\n",
        "\n",
        "\n",
        "**Key Points to Highlight:**\n",
        "\n",
        "- Memory Efficiency: NumPy arrays consume less memory than Python lists for the same amount of data.\n",
        "\n",
        "- Faster Operations: NumPy’s vectorized operations allow for faster arithmetic and manipulation of data.\n",
        "\n",
        "- Initialization Functions:\n",
        "   - np.zeros() is great for creating arrays when you need to start with zero values.\n",
        "   -  np.ones() is useful when you need to start with one values.\n",
        "   -  np.arange() provides a more flexible and powerful way to create sequences of numbers with custom start, stop, and step values.\n"
      ],
      "metadata": {
        "id": "ckKHC5LSYgc8"
      }
    },
    {
      "cell_type": "markdown",
      "source": [
        "#2. Understanding Array Data Types"
      ],
      "metadata": {
        "id": "TWv-VEJRZVNY"
      }
    },
    {
      "cell_type": "markdown",
      "source": [
        "**Theory:**\n",
        "\n",
        "In NumPy, every array has a data type (dtype) that defines the kind of elements the array will hold. The dtype specifies the type of the elements in the array, such as integers, floats, or complex numbers. Choosing the right dtype is crucial for memory efficiency and computational speed.\n",
        "\n",
        "- NumPy Data Types:\n",
        "   - int32: 32-bit signed integer.\n",
        "   - float64: 64-bit floating point number (double precision).\n",
        "   - complex128: 128-bit complex number (real and imaginary parts are both 64-bit).\n",
        "\n",
        "There are also other data types like int8, int64, float32, etc., depending on the precision and memory needs of your application.\n",
        "\n",
        "\n",
        "- Specifying Data Types: You can specify the data type of a NumPy array while creating it using the dtype argument. If you do not specify a data type, NumPy will infer the type based on the data provided.\n",
        "\n",
        "- Why is dtype important?\n",
        "\n",
        "  - Memory Usage: The data type determines how much memory is required to store each element in the array. For example, a float64 takes up twice as much memory as a float32.\n",
        "\n",
        "  - Computational Efficiency: Using the correct dtype ensures that operations on the array are performed more efficiently. For example, calculations with smaller int32 or float32 arrays are faster than with larger int64 or float64 arrays."
      ],
      "metadata": {
        "id": "LkhguJgGZgpk"
      }
    },
    {
      "cell_type": "code",
      "source": [
        "import numpy as np\n",
        "\n",
        "# Creating arrays with specific data types\n",
        "arr_int = np.array([1, 2, 3], dtype=np.int32)  # 32-bit integers\n",
        "arr_float = np.array([1.1, 2.2, 3.3], dtype=np.float64)  # 64-bit floats\n",
        "\n",
        "print(\"Integer Array:\", arr_int)\n",
        "print(\"Float Array:\", arr_float)"
      ],
      "metadata": {
        "id": "YG039XsnaOjs",
        "colab": {
          "base_uri": "https://localhost:8080/"
        },
        "outputId": "6a21c2fa-c985-48b9-e616-34ed3eb96999"
      },
      "execution_count": null,
      "outputs": [
        {
          "output_type": "stream",
          "name": "stdout",
          "text": [
            "Integer Array: [1 2 3]\n",
            "Float Array: [1.1 2.2 3.3]\n"
          ]
        }
      ]
    },
    {
      "cell_type": "markdown",
      "source": [
        "**Explanation:**\n",
        "\n",
        "- Creating Integer Arrays with dtype=np.int32:\n",
        "\n",
        "  - arr_int = np.array([1, 2, 3], dtype=np.int32) creates an array with the integer data type of int32, which means each element takes up 4 bytes of memory.\n",
        "  - Using a smaller integer data type like int32 is helpful when you are sure the numbers will not exceed the range of 32-bit integers, thus saving memory.\n",
        "\n",
        "- Creating Float Arrays with dtype=np.float64:\n",
        "\n",
        "  - arr_float = np.array([1.1, 2.2, 3.3], dtype=np.float64) creates an array with the floating-point data type of float64, which means each element will use 8 bytes of memory (64 bits).\n",
        "  - float64 is the default for floating-point numbers in NumPy and provides high precision. If you need less precision and want to save memory, you can specify dtype=np.float32."
      ],
      "metadata": {
        "id": "r7jMgRYcaMI9"
      }
    },
    {
      "cell_type": "markdown",
      "source": [
        "**Key Points to Highlight:**\n",
        "\n",
        "- dtype argument: By specifying the dtype, you can control how much memory your array will use and how fast operations will be performed.\n",
        "- Memory Efficiency: Smaller data types like int8 or float32 use less memory compared to larger ones like int64 or float64, but they might have lower precision or a smaller range.\n",
        "- Computational Efficiency: Smaller data types can improve performance by reducing the amount of data being processed, especially when working with large datasets."
      ],
      "metadata": {
        "id": "UHMKx02Yalfu"
      }
    },
    {
      "cell_type": "markdown",
      "source": [
        "#3. Array Operations and Broadcasting"
      ],
      "metadata": {
        "id": "0NZ_dgGyaufz"
      }
    },
    {
      "cell_type": "markdown",
      "source": [
        "**Theory:**\n",
        "\n",
        "Element-wise Operations in NumPy:\n",
        "\n",
        " One of the key advantages of NumPy arrays is that they support element-wise operations. This means that NumPy can perform arithmetic operations on arrays element by element without the need for explicit loops. When you apply an operation like addition, subtraction, or multiplication to a NumPy array, NumPy automatically applies that operation to each element in the array.\n",
        "\n",
        "**For example:**\n",
        "\n",
        "- Adding a scalar value (a number) to an array will add that value to each element in the array.\n",
        "- Multiplying an array by a scalar will multiply each element by the scalar value.\n",
        "\n",
        "\n",
        "**Broadcasting:** Broadcasting allows NumPy to perform operations on arrays of different shapes. When performing operations between arrays, NumPy automatically adjusts their dimensions to make them compatible for the operation. This eliminates the need for explicit loops or manual reshaping of arrays.\n",
        "\n",
        "For example, if you add a scalar (a single number) to a NumPy array, NumPy will broadcast the scalar across all elements of the array. Similarly, if you perform an operation on two arrays with compatible shapes (e.g., one 2x3 array and one scalar), NumPy will automatically align the dimensions to make the operation possible."
      ],
      "metadata": {
        "id": "2ljoqghMa2EC"
      }
    },
    {
      "cell_type": "code",
      "source": [
        "import numpy as np\n",
        "\n",
        "# Creating a 1D array\n",
        "arr = np.array([1, 2, 3, 4])\n",
        "\n",
        "# Scalar operation: Add a number to each element\n",
        "result = arr + 10\n",
        "print(\"Array + Scalar:\", result)\n",
        "\n",
        "# Element-wise operation: Multiply each element by 2\n",
        "result = arr * 2\n",
        "print(\"Array * Scalar:\", result)\n",
        "\n",
        "# Square root of each element\n",
        "result = np.sqrt(arr)\n",
        "print(\"Square root of array:\", result)\n"
      ],
      "metadata": {
        "id": "ybj_JDblbXzB"
      },
      "execution_count": null,
      "outputs": []
    },
    {
      "cell_type": "markdown",
      "source": [
        "**Explanation:**\n",
        "\n",
        "Scalar Operation: Adding a Number to Each Element:\n",
        "\n",
        "- result = arr + 10 adds the scalar 10 to each element of the array. This operation is performed element-wise, so each element is incremented by 10.\n",
        "Output: [11, 12, 13, 14] (10 is added to each element of the array).\n",
        "Element-wise Operation: Multiplying Each Element by a Scalar:\n",
        "\n",
        "- result = arr * 2 multiplies each element of the array by 2. Again, the operation is done element-wise, without the need for loops.\n",
        "Output: [2, 4, 6, 8] (each element of the array is multiplied by 2).\n",
        "Element-wise Operation: Square Root of Each Element:\n",
        "\n",
        "- result = np.sqrt(arr) computes the square root of each element in the array. This is another example of an element-wise operation.\n",
        "Output: [1.0, 1.41421356, 1.73205081, 2.0] (the square root of each number in the array)."
      ],
      "metadata": {
        "id": "6k4-Ocf2bY5Q"
      }
    },
    {
      "cell_type": "markdown",
      "source": [
        "**Broadcasting in NumPy:**\n",
        "\n",
        "\n",
        "Broadcasting occurs when NumPy applies operations on arrays with different shapes. Here are some important points about broadcasting:\n",
        "\n",
        "Broadcasting is used when two arrays have different shapes but are compatible for element-wise operations. For instance, you can add a scalar to an array of any shape, and the scalar will be broadcast to every element of the array."
      ],
      "metadata": {
        "id": "WmldcxIHbSbn"
      }
    },
    {
      "cell_type": "code",
      "source": [
        "# 1D array\n",
        "arr = np.array([1, 2, 3])\n",
        "\n",
        "# 2D array (row vector)\n",
        "arr2 = np.array([[10, 20, 30]])\n",
        "\n",
        "# Broadcasting: Adding a 1D array to a 2D array\n",
        "result = arr2 + arr\n",
        "print(\"Broadcasted addition result:\", result)"
      ],
      "metadata": {
        "id": "hpr07IvNbnV-"
      },
      "execution_count": null,
      "outputs": []
    },
    {
      "cell_type": "markdown",
      "source": [
        "**Key Takeaways:**\n",
        "\n",
        "- Element-wise operations make it easy to apply operations to all elements of an array simultaneously without explicit loops.\n",
        "- Broadcasting makes it possible to perform operations on arrays of different shapes. This is highly efficient and eliminates the need for reshaping arrays manually.\n",
        "  - Scalar broadcasting: A scalar can be added to or multiplied with any array, and NumPy will apply the operation to all elements of the array.\n",
        "  - Array broadcasting: When performing operations between arrays, NumPy will \"stretch\" smaller arrays (with compatible shapes) to match the shape of the larger array, so the operation can be performed element-wise."
      ],
      "metadata": {
        "id": "Fu8zzoYTbp2p"
      }
    },
    {
      "cell_type": "markdown",
      "source": [
        "#4. Introduction to Vectorized Operations"
      ],
      "metadata": {
        "id": "gTFQPSBJb8tR"
      }
    },
    {
      "cell_type": "markdown",
      "source": [
        "**Theory:**\n",
        "\n",
        "Vectorization in NumPy refers to the ability to apply functions or operations to entire arrays or vectors without using explicit for-loops. This means you can apply a function to each element of the array efficiently, in a batch operation, leading to faster execution compared to traditional looping over array elements in Python.\n",
        "\n",
        "In Python, if you were to use a list and wanted to apply a function to each element, you would typically use a for-loop. With NumPy, vectorized operations allow you to apply the same function to each element of the array simultaneously, and NumPy handles the loop internally.\n",
        "\n",
        "\n",
        "\n",
        "**The benefits of vectorization are:**\n",
        "\n",
        "- Faster Execution: Since NumPy is implemented in C, these operations are performed much faster than Python's built-in loops.\n",
        "- Simpler Code: Vectorized operations result in more concise and readable code.\n",
        "- Memory Efficiency: Vectorized operations use less memory and are better optimized for numerical tasks.\n",
        "\n",
        "**Common examples of vectorized functions in NumPy include:**\n",
        "\n",
        "- np.sin(): Computes the sine of each element in the array.\n",
        "- np.exp(): Computes the exponential of each element in the array.\n",
        "- np.log(): Computes the logarithm of each element.\n"
      ],
      "metadata": {
        "id": "1jjHKnPrb-Vx"
      }
    },
    {
      "cell_type": "code",
      "source": [
        "import numpy as np\n",
        "\n",
        "# Creating two arrays\n",
        "arr_1 = np.array([1, 2, 3])\n",
        "arr_2 = np.array([4, 5, 6])\n",
        "\n",
        "# Element-wise multiplication\n",
        "result = arr_1 * arr_2\n",
        "print(\"Element-wise Multiplication:\", result)\n",
        "\n",
        "# Apply a mathematical function to an array\n",
        "result = np.sin(arr_1)\n",
        "print(\"Sine of array elements:\", result)"
      ],
      "metadata": {
        "id": "XDXMiNkicTJJ"
      },
      "execution_count": null,
      "outputs": []
    },
    {
      "cell_type": "markdown",
      "source": [
        "**Explanation:**\n",
        "\n",
        "**Element-wise Multiplication:**\n",
        "\n",
        "- result = arr_1 * arr_2 performs an element-wise multiplication between arr_1 and arr_2. Instead of manually looping over the arrays and multiplying each element, NumPy vectorizes the operation and computes the product of corresponding elements in the arrays.\n",
        "- Output: [1*4, 2*5, 3*6] = [4, 10, 18].\n",
        "\n",
        "**Applying a Mathematical Function to an Array:**\n",
        "\n",
        "- result = np.sin(arr_1) computes the sine of each element in arr_1 using the vectorized np.sin() function. Instead of looping through each element and applying sin() individually, NumPy applies it directly to the entire array.\n",
        "- Output: The sine of the elements [1, 2, 3] is calculated as [0.841, 0.909, 0.141] (rounded)."
      ],
      "metadata": {
        "id": "fO_PfXXWcC-x"
      }
    },
    {
      "cell_type": "markdown",
      "source": [
        "**Vectorized Operations with Other Functions:**\n",
        "\n",
        "NumPy provides a wide range of mathematical functions that can be applied\n",
        "element-wise to arrays, including:\n",
        "\n",
        "**np.exp(): Computes the exponential of each element in the array.**"
      ],
      "metadata": {
        "id": "BeP8wEjSci4X"
      }
    },
    {
      "cell_type": "code",
      "source": [
        "result = np.exp(arr_1)\n",
        "print(\"Exponential of array elements:\", result)"
      ],
      "metadata": {
        "id": "gklFhFjVc4xi"
      },
      "execution_count": null,
      "outputs": []
    },
    {
      "cell_type": "markdown",
      "source": [
        "**np.log(): Computes the natural logarithm of each element.**"
      ],
      "metadata": {
        "id": "7ndNIhxFc7Zf"
      }
    },
    {
      "cell_type": "code",
      "source": [
        "result = np.log(arr_1)\n",
        "print(\"Logarithm of array elements:\", result)"
      ],
      "metadata": {
        "id": "Wmn-WkKYc-ZY"
      },
      "execution_count": null,
      "outputs": []
    },
    {
      "cell_type": "markdown",
      "source": [
        "**np.sqrt(): Computes the square root of each element.**"
      ],
      "metadata": {
        "id": "VRqqXcqsdCMj"
      }
    },
    {
      "cell_type": "code",
      "source": [
        "result = np.sqrt(arr_1)\n",
        "print(\"Square root of array elements:\", result)"
      ],
      "metadata": {
        "id": "p-RiIoLEdFgi"
      },
      "execution_count": null,
      "outputs": []
    },
    {
      "cell_type": "markdown",
      "source": [
        "**Key Points to Highlight:**\n",
        "\n",
        "\n",
        "- Vectorized operations eliminate the need for explicit loops, making the code cleaner and faster.\n",
        "- Element-wise application: Functions like np.sin(), np.exp(), and others are designed to operate on each element of an array automatically.\n",
        "- Performance: Since NumPy is optimized with C and Fortran code, these operations are much more efficient compared to looping over each element in Python.\n",
        "- Efficiency in Code: Vectorization makes the code shorter, easier to read, and significantly more efficient, especially when working with large datasets."
      ],
      "metadata": {
        "id": "NBaiRRBhdHu-"
      }
    },
    {
      "cell_type": "markdown",
      "source": [
        "#5. Practical Example: Array Operations and Functions"
      ],
      "metadata": {
        "id": "qNV0i8sPdUEf"
      }
    },
    {
      "cell_type": "markdown",
      "source": [
        "In real-world applications, NumPy is often used to solve practical problems involving numerical data. One common use is performing matrix operations, which are essential in areas like machine learning, data analysis, and scientific computing. Matrix operations like multiplication, transposition, determinant calculation, and eigenvalues are critical for tasks involving linear algebra.\n",
        "\n",
        "\n",
        "NumPy provides powerful tools for working with matrices and performing complex mathematical transformations on arrays, such as:\n",
        "\n",
        "- Matrix multiplication: The operation that combines two matrices according to specific rules.\n",
        "- Element-wise transformations: Applying functions like np.sin(), np.exp(), and np.log() to matrices or arrays."
      ],
      "metadata": {
        "id": "SEyFz2sXd2jV"
      }
    },
    {
      "cell_type": "markdown",
      "source": [
        "One of the most important functions for matrix operations in NumPy is np.dot(), which computes the dot product of two arrays (for 2D arrays, it is matrix multiplication)."
      ],
      "metadata": {
        "id": "610Yylswd-De"
      }
    },
    {
      "cell_type": "code",
      "source": [
        "import numpy as np\n",
        "\n",
        "# Example: Creating a 2D array (matrix) and performing matrix multiplication\n",
        "arr_2d = np.array([[1, 2], [3, 4]])\n",
        "\n",
        "# Matrix multiplication (dot product)\n",
        "result = np.dot(arr_2d, arr_2d)\n",
        "print(\"Matrix Multiplication Result:\\n\", result)"
      ],
      "metadata": {
        "id": "q-UHDbv6eCKL"
      },
      "execution_count": null,
      "outputs": []
    },
    {
      "cell_type": "markdown",
      "source": [
        "**Explanation:**\n",
        "\n",
        "Creating a 2D Array (Matrix):\n",
        "\n",
        "arr_2d = np.array([[1, 2], [3, 4]]) creates a 2x2 matrix. This is a basic example of a two-dimensional array where each element represents a number in a matrix.\n",
        "\n",
        "Matrix Multiplication using np.dot():\n",
        "\n",
        "result = np.dot(arr_2d, arr_2d) computes the dot product (or matrix multiplication) of the matrix with itself. For 2D arrays, the dot product is equivalent to matrix multiplication, which involves taking the rows of the first matrix and the columns of the second matrix to compute the results.\n",
        "\n",
        "\n",
        "The formula for matrix multiplication is:\n",
        "\n",
        "![image.png](data:image/png;base64,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)\n",
        "\n"
      ],
      "metadata": {
        "id": "F7dKixfBeEhK"
      }
    },
    {
      "cell_type": "markdown",
      "source": [
        "Therefore, the output of the matrix multiplication will be:"
      ],
      "metadata": {
        "id": "UnPEdKnoedar"
      }
    },
    {
      "cell_type": "code",
      "source": [
        "Matrix Multiplication Result:\n",
        " [[ 7 10]\n",
        "  [15 22]]"
      ],
      "metadata": {
        "id": "QvL3WbiJegk8"
      },
      "execution_count": null,
      "outputs": []
    },
    {
      "cell_type": "markdown",
      "source": [
        "**Key Points:**\n",
        "\n",
        "- Matrix Multiplication: Matrix multiplication is fundamental in many areas such as linear algebra, computer graphics, and machine learning (e.g., neural networks). The np.dot() function simplifies this by performing the necessary calculations efficiently.\n",
        "\n",
        "- Use of np.dot(): In NumPy, np.dot(a, b) computes the dot product of two arrays a and b. For 2D arrays, this function performs matrix multiplication, and for 1D arrays, it computes the dot product of two vectors.\n",
        "\n",
        "**Applications in Data Science and Machine Learning:**\n",
        "\n",
        "- Linear regression: Matrix multiplication is used in algorithms like linear regression to solve for the best-fit line.\n",
        "- Neural Networks: In machine learning, matrix operations are used for forward propagation and backpropagation in neural networks.\n",
        "- Transformations in Computer Graphics: Matrices are used for operations like scaling, rotating, and translating images."
      ],
      "metadata": {
        "id": "_8XL0Fu1ejMX"
      }
    },
    {
      "cell_type": "markdown",
      "source": [
        "#Wrap-Up and Conclusion"
      ],
      "metadata": {
        "id": "Fr_YOxhUfaQD"
      }
    },
    {
      "cell_type": "markdown",
      "source": [
        "**Theory:**\n",
        "\n",
        "1. Key Points Covered:\n",
        "\n",
        "- NumPy Basics: We explored the fundamental aspects of the NumPy library, its importance in scientific computing and data science, and how it allows for fast and memory-efficient computations.\n",
        "\n",
        "- Array Creation and Types: We learned how to create arrays from lists, tuples, and functions like np.zeros(), np.ones(), and np.arange(). These arrays enable fast mathematical operations that would otherwise be cumbersome with standard Python lists.\n",
        "\n",
        "- Array Operations: We discussed how element-wise operations in NumPy allow for vectorized computations, speeding up operations significantly compared to using Python loops. We also introduced broadcasting, which enables operations between arrays of different shapes, making NumPy extremely flexible.\n",
        "\n",
        "- Vectorized Operations: We highlighted how functions like np.sin(), np.exp(), and np.sqrt() can be applied directly to arrays, enabling faster execution and eliminating the need for explicit loops.\n",
        "\n",
        "- Practical Examples: Using matrix operations and the np.dot() function, we saw how NumPy handles complex operations like matrix multiplication, which is essential for machine learning and linear algebra."
      ],
      "metadata": {
        "id": "wsPWHcOufcCy"
      }
    },
    {
      "cell_type": "markdown",
      "source": [
        "**2. Reiteration of NumPy’s Advantages:**\n",
        "\n",
        "- NumPy makes scientific computing efficient by allowing vectorized operations, making code both faster and more concise.\n",
        "\n",
        "- Memory efficiency: NumPy arrays are more compact compared to Python lists because they are homogeneous (all elements are of the same data type), leading to less memory consumption.\n",
        "- Support for large datasets: NumPy is optimized for handling large multi-dimensional arrays, a necessity for tasks like data analysis, image processing, and machine learning."
      ],
      "metadata": {
        "id": "6hNF3KNZfnua"
      }
    },
    {
      "cell_type": "markdown",
      "source": [
        "**Suggestions for Next Steps:**\n",
        "\n",
        "**Practice:**\n",
        "- Continue experimenting with array creation, array slicing, and array operations. Practice creating 1D, 2D, and 3D arrays and performing operations like addition, multiplication, and transposition.\n",
        "- Solve matrix problems using np.dot(), and explore operations like dot products, matrix multiplication, and other linear algebra operations in NumPy.\n",
        "\n",
        "**Explore Advanced Topics:**\n",
        "- The next session will dive deeper into array slicing, reshaping arrays, and linear algebra operations such as eigenvalues, determinants, and matrix factorizations.\n",
        "- Prepare to learn how to manipulate the shapes and sizes of arrays to suit different computational tasks."
      ],
      "metadata": {
        "id": "MSVX1h0kf5sl"
      }
    }
  ]
}